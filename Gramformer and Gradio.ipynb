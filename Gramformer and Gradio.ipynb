{
 "cells": [
  {
   "cell_type": "markdown",
   "id": "1955bf3f",
   "metadata": {},
   "source": [
    "## 1.We first start by installing thelibraries/ Dependancies we will use for the project"
   ]
  },
  {
   "cell_type": "code",
   "execution_count": 1,
   "id": "6ba5c3bd",
   "metadata": {},
   "outputs": [
    {
     "name": "stdout",
     "output_type": "stream",
     "text": [
      "Looking in indexes: https://pypi.org/simple, https://pypi.ngc.nvidia.com\n",
      "Requirement already satisfied: torch in c:\\users\\sideeffect\\anaconda3\\lib\\site-packages (2.1.0)\n",
      "Requirement already satisfied: torchvision in c:\\users\\sideeffect\\anaconda3\\lib\\site-packages (0.16.0)\n",
      "Requirement already satisfied: torchaudio in c:\\users\\sideeffect\\anaconda3\\lib\\site-packages (2.1.0)\n",
      "Requirement already satisfied: filelock in c:\\users\\sideeffect\\anaconda3\\lib\\site-packages (from torch) (3.6.0)\n",
      "Requirement already satisfied: typing-extensions in c:\\users\\sideeffect\\anaconda3\\lib\\site-packages (from torch) (4.8.0)\n",
      "Requirement already satisfied: sympy in c:\\users\\sideeffect\\anaconda3\\lib\\site-packages (from torch) (1.10.1)\n",
      "Requirement already satisfied: networkx in c:\\users\\sideeffect\\anaconda3\\lib\\site-packages (from torch) (2.8.4)\n",
      "Requirement already satisfied: jinja2 in c:\\users\\sideeffect\\anaconda3\\lib\\site-packages (from torch) (2.11.3)\n",
      "Requirement already satisfied: fsspec in c:\\users\\sideeffect\\anaconda3\\lib\\site-packages (from torch) (2023.10.0)\n",
      "Requirement already satisfied: numpy in c:\\users\\sideeffect\\anaconda3\\lib\\site-packages (from torchvision) (1.21.5)\n",
      "Requirement already satisfied: requests in c:\\users\\sideeffect\\anaconda3\\lib\\site-packages (from torchvision) (2.28.1)\n",
      "Requirement already satisfied: pillow!=8.3.*,>=5.3.0 in c:\\users\\sideeffect\\anaconda3\\lib\\site-packages (from torchvision) (9.2.0)\n",
      "Requirement already satisfied: MarkupSafe>=0.23 in c:\\users\\sideeffect\\anaconda3\\lib\\site-packages (from jinja2->torch) (2.0.1)\n",
      "Requirement already satisfied: charset-normalizer<3,>=2 in c:\\users\\sideeffect\\anaconda3\\lib\\site-packages (from requests->torchvision) (2.0.4)\n",
      "Requirement already satisfied: idna<4,>=2.5 in c:\\users\\sideeffect\\anaconda3\\lib\\site-packages (from requests->torchvision) (3.3)\n",
      "Requirement already satisfied: urllib3<1.27,>=1.21.1 in c:\\users\\sideeffect\\anaconda3\\lib\\site-packages (from requests->torchvision) (1.26.11)\n",
      "Requirement already satisfied: certifi>=2017.4.17 in c:\\users\\sideeffect\\anaconda3\\lib\\site-packages (from requests->torchvision) (2022.9.14)\n",
      "Requirement already satisfied: mpmath>=0.19 in c:\\users\\sideeffect\\anaconda3\\lib\\site-packages (from sympy->torch) (1.2.1)\n"
     ]
    }
   ],
   "source": [
    "!pip install torch torchvision torchaudio"
   ]
  },
  {
   "cell_type": "code",
   "execution_count": 2,
   "id": "188d47b8",
   "metadata": {},
   "outputs": [
    {
     "name": "stdout",
     "output_type": "stream",
     "text": [
      "Looking in indexes: https://pypi.org/simple, https://pypi.ngc.nvidia.com\n",
      "Requirement already satisfied: gradio in c:\\users\\sideeffect\\anaconda3\\lib\\site-packages (3.50.2)\n",
      "Requirement already satisfied: aiofiles<24.0,>=22.0 in c:\\users\\sideeffect\\anaconda3\\lib\\site-packages (from gradio) (23.2.1)\n",
      "Requirement already satisfied: altair<6.0,>=4.2.0 in c:\\users\\sideeffect\\anaconda3\\lib\\site-packages (from gradio) (5.1.2)\n",
      "Requirement already satisfied: fastapi in c:\\users\\sideeffect\\anaconda3\\lib\\site-packages (from gradio) (0.104.0)\n",
      "Requirement already satisfied: ffmpy in c:\\users\\sideeffect\\anaconda3\\lib\\site-packages (from gradio) (0.3.1)\n",
      "Requirement already satisfied: gradio-client==0.6.1 in c:\\users\\sideeffect\\anaconda3\\lib\\site-packages (from gradio) (0.6.1)\n",
      "Requirement already satisfied: httpx in c:\\users\\sideeffect\\anaconda3\\lib\\site-packages (from gradio) (0.25.0)\n",
      "Requirement already satisfied: huggingface-hub>=0.14.0 in c:\\users\\sideeffect\\anaconda3\\lib\\site-packages (from gradio) (0.17.3)\n",
      "Requirement already satisfied: importlib-resources<7.0,>=1.3 in c:\\users\\sideeffect\\anaconda3\\lib\\site-packages (from gradio) (6.1.0)\n",
      "Requirement already satisfied: jinja2<4.0 in c:\\users\\sideeffect\\anaconda3\\lib\\site-packages (from gradio) (2.11.3)\n",
      "Requirement already satisfied: markupsafe~=2.0 in c:\\users\\sideeffect\\anaconda3\\lib\\site-packages (from gradio) (2.0.1)\n",
      "Requirement already satisfied: matplotlib~=3.0 in c:\\users\\sideeffect\\anaconda3\\lib\\site-packages (from gradio) (3.5.2)\n",
      "Requirement already satisfied: numpy~=1.0 in c:\\users\\sideeffect\\anaconda3\\lib\\site-packages (from gradio) (1.21.5)\n",
      "Requirement already satisfied: orjson~=3.0 in c:\\users\\sideeffect\\anaconda3\\lib\\site-packages (from gradio) (3.9.9)\n",
      "Requirement already satisfied: packaging in c:\\users\\sideeffect\\anaconda3\\lib\\site-packages (from gradio) (21.3)\n",
      "Requirement already satisfied: pandas<3.0,>=1.0 in c:\\users\\sideeffect\\anaconda3\\lib\\site-packages (from gradio) (1.4.4)\n",
      "Requirement already satisfied: pillow<11.0,>=8.0 in c:\\users\\sideeffect\\anaconda3\\lib\\site-packages (from gradio) (9.2.0)\n",
      "Requirement already satisfied: pydantic!=1.8,!=1.8.1,!=2.0.0,!=2.0.1,<3.0.0,>=1.7.4 in c:\\users\\sideeffect\\anaconda3\\lib\\site-packages (from gradio) (2.4.2)\n",
      "Requirement already satisfied: pydub in c:\\users\\sideeffect\\anaconda3\\lib\\site-packages (from gradio) (0.25.1)\n",
      "Requirement already satisfied: python-multipart in c:\\users\\sideeffect\\anaconda3\\lib\\site-packages (from gradio) (0.0.6)\n",
      "Requirement already satisfied: pyyaml<7.0,>=5.0 in c:\\users\\sideeffect\\anaconda3\\lib\\site-packages (from gradio) (6.0)\n",
      "Requirement already satisfied: requests~=2.0 in c:\\users\\sideeffect\\anaconda3\\lib\\site-packages (from gradio) (2.28.1)\n",
      "Requirement already satisfied: semantic-version~=2.0 in c:\\users\\sideeffect\\anaconda3\\lib\\site-packages (from gradio) (2.10.0)\n",
      "Requirement already satisfied: typing-extensions~=4.0 in c:\\users\\sideeffect\\anaconda3\\lib\\site-packages (from gradio) (4.8.0)\n",
      "Requirement already satisfied: uvicorn>=0.14.0 in c:\\users\\sideeffect\\anaconda3\\lib\\site-packages (from gradio) (0.23.2)\n",
      "Requirement already satisfied: websockets<12.0,>=10.0 in c:\\users\\sideeffect\\anaconda3\\lib\\site-packages (from gradio) (11.0.3)\n",
      "Requirement already satisfied: fsspec in c:\\users\\sideeffect\\anaconda3\\lib\\site-packages (from gradio-client==0.6.1->gradio) (2023.10.0)\n",
      "Requirement already satisfied: jsonschema>=3.0 in c:\\users\\sideeffect\\anaconda3\\lib\\site-packages (from altair<6.0,>=4.2.0->gradio) (4.16.0)\n",
      "Requirement already satisfied: toolz in c:\\users\\sideeffect\\anaconda3\\lib\\site-packages (from altair<6.0,>=4.2.0->gradio) (0.11.2)\n",
      "Requirement already satisfied: filelock in c:\\users\\sideeffect\\anaconda3\\lib\\site-packages (from huggingface-hub>=0.14.0->gradio) (3.6.0)\n",
      "Requirement already satisfied: tqdm>=4.42.1 in c:\\users\\sideeffect\\anaconda3\\lib\\site-packages (from huggingface-hub>=0.14.0->gradio) (4.64.1)\n",
      "Requirement already satisfied: zipp>=3.1.0 in c:\\users\\sideeffect\\anaconda3\\lib\\site-packages (from importlib-resources<7.0,>=1.3->gradio) (3.8.0)\n",
      "Requirement already satisfied: cycler>=0.10 in c:\\users\\sideeffect\\anaconda3\\lib\\site-packages (from matplotlib~=3.0->gradio) (0.11.0)\n",
      "Requirement already satisfied: fonttools>=4.22.0 in c:\\users\\sideeffect\\anaconda3\\lib\\site-packages (from matplotlib~=3.0->gradio) (4.25.0)\n",
      "Requirement already satisfied: kiwisolver>=1.0.1 in c:\\users\\sideeffect\\anaconda3\\lib\\site-packages (from matplotlib~=3.0->gradio) (1.4.2)\n",
      "Requirement already satisfied: pyparsing>=2.2.1 in c:\\users\\sideeffect\\anaconda3\\lib\\site-packages (from matplotlib~=3.0->gradio) (3.0.9)\n",
      "Requirement already satisfied: python-dateutil>=2.7 in c:\\users\\sideeffect\\anaconda3\\lib\\site-packages (from matplotlib~=3.0->gradio) (2.8.2)\n",
      "Requirement already satisfied: pytz>=2020.1 in c:\\users\\sideeffect\\anaconda3\\lib\\site-packages (from pandas<3.0,>=1.0->gradio) (2022.1)\n",
      "Requirement already satisfied: annotated-types>=0.4.0 in c:\\users\\sideeffect\\anaconda3\\lib\\site-packages (from pydantic!=1.8,!=1.8.1,!=2.0.0,!=2.0.1,<3.0.0,>=1.7.4->gradio) (0.6.0)\n",
      "Requirement already satisfied: pydantic-core==2.10.1 in c:\\users\\sideeffect\\anaconda3\\lib\\site-packages (from pydantic!=1.8,!=1.8.1,!=2.0.0,!=2.0.1,<3.0.0,>=1.7.4->gradio) (2.10.1)\n",
      "Requirement already satisfied: charset-normalizer<3,>=2 in c:\\users\\sideeffect\\anaconda3\\lib\\site-packages (from requests~=2.0->gradio) (2.0.4)\n",
      "Requirement already satisfied: idna<4,>=2.5 in c:\\users\\sideeffect\\anaconda3\\lib\\site-packages (from requests~=2.0->gradio) (3.3)\n",
      "Requirement already satisfied: urllib3<1.27,>=1.21.1 in c:\\users\\sideeffect\\anaconda3\\lib\\site-packages (from requests~=2.0->gradio) (1.26.11)\n",
      "Requirement already satisfied: certifi>=2017.4.17 in c:\\users\\sideeffect\\anaconda3\\lib\\site-packages (from requests~=2.0->gradio) (2022.9.14)\n",
      "Requirement already satisfied: click>=7.0 in c:\\users\\sideeffect\\anaconda3\\lib\\site-packages (from uvicorn>=0.14.0->gradio) (8.0.4)\n",
      "Requirement already satisfied: h11>=0.8 in c:\\users\\sideeffect\\anaconda3\\lib\\site-packages (from uvicorn>=0.14.0->gradio) (0.14.0)\n",
      "Requirement already satisfied: anyio<4.0.0,>=3.7.1 in c:\\users\\sideeffect\\anaconda3\\lib\\site-packages (from fastapi->gradio) (3.7.1)\n",
      "Requirement already satisfied: starlette<0.28.0,>=0.27.0 in c:\\users\\sideeffect\\anaconda3\\lib\\site-packages (from fastapi->gradio) (0.27.0)\n",
      "Requirement already satisfied: httpcore<0.19.0,>=0.18.0 in c:\\users\\sideeffect\\anaconda3\\lib\\site-packages (from httpx->gradio) (0.18.0)\n",
      "Requirement already satisfied: sniffio in c:\\users\\sideeffect\\anaconda3\\lib\\site-packages (from httpx->gradio) (1.2.0)\n",
      "Requirement already satisfied: exceptiongroup in c:\\users\\sideeffect\\anaconda3\\lib\\site-packages (from anyio<4.0.0,>=3.7.1->fastapi->gradio) (1.1.3)\n",
      "Requirement already satisfied: colorama in c:\\users\\sideeffect\\anaconda3\\lib\\site-packages (from click>=7.0->uvicorn>=0.14.0->gradio) (0.4.6)\n",
      "Requirement already satisfied: attrs>=17.4.0 in c:\\users\\sideeffect\\anaconda3\\lib\\site-packages (from jsonschema>=3.0->altair<6.0,>=4.2.0->gradio) (21.4.0)\n",
      "Requirement already satisfied: pyrsistent!=0.17.0,!=0.17.1,!=0.17.2,>=0.14.0 in c:\\users\\sideeffect\\anaconda3\\lib\\site-packages (from jsonschema>=3.0->altair<6.0,>=4.2.0->gradio) (0.18.0)\n",
      "Requirement already satisfied: six>=1.5 in c:\\users\\sideeffect\\anaconda3\\lib\\site-packages (from python-dateutil>=2.7->matplotlib~=3.0->gradio) (1.16.0)\n"
     ]
    }
   ],
   "source": [
    "!pip install gradio"
   ]
  },
  {
   "cell_type": "markdown",
   "id": "34c07511",
   "metadata": {},
   "source": [
    "## 2. We can then install gramformer\n",
    "To install gramformer we navigate to the github repository by PrithivirajDamodaran.https://github.com/PrithivirajDamodaran/Gramformer"
   ]
  },
  {
   "cell_type": "code",
   "execution_count": 3,
   "id": "0fd6d1e5",
   "metadata": {},
   "outputs": [
    {
     "name": "stdout",
     "output_type": "stream",
     "text": [
      "Looking in indexes: https://pypi.org/simple, https://pypi.ngc.nvidia.com\n",
      "Collecting git+https://github.com/PrithivirajDamodaran/Gramformer.git\n",
      "  Cloning https://github.com/PrithivirajDamodaran/Gramformer.git to c:\\users\\sideeffect\\appdata\\local\\temp\\pip-req-build-4bymbp57\n",
      "  Resolved https://github.com/PrithivirajDamodaran/Gramformer.git to commit 23425cd2e98a919384cab6156af8adf1c9d0639a\n",
      "  Preparing metadata (setup.py): started\n",
      "  Preparing metadata (setup.py): finished with status 'done'\n",
      "Requirement already satisfied: transformers in c:\\users\\sideeffect\\anaconda3\\lib\\site-packages (from gramformer==1.0) (4.35.0)\n",
      "Requirement already satisfied: sentencepiece in c:\\users\\sideeffect\\anaconda3\\lib\\site-packages (from gramformer==1.0) (0.1.99)\n",
      "Requirement already satisfied: python-Levenshtein in c:\\users\\sideeffect\\anaconda3\\lib\\site-packages (from gramformer==1.0) (0.23.0)\n",
      "Requirement already satisfied: fuzzywuzzy in c:\\users\\sideeffect\\anaconda3\\lib\\site-packages (from gramformer==1.0) (0.18.0)\n",
      "Requirement already satisfied: tokenizers in c:\\users\\sideeffect\\anaconda3\\lib\\site-packages (from gramformer==1.0) (0.14.1)\n",
      "Requirement already satisfied: fsspec in c:\\users\\sideeffect\\anaconda3\\lib\\site-packages (from gramformer==1.0) (2023.10.0)\n",
      "Requirement already satisfied: errant in c:\\users\\sideeffect\\anaconda3\\lib\\site-packages (from gramformer==1.0) (3.0.0)\n",
      "Requirement already satisfied: spacy<4,>=3.2.0 in c:\\users\\sideeffect\\anaconda3\\lib\\site-packages (from errant->gramformer==1.0) (3.7.2)\n",
      "Requirement already satisfied: rapidfuzz>=3.4.0 in c:\\users\\sideeffect\\anaconda3\\lib\\site-packages (from errant->gramformer==1.0) (3.5.2)\n",
      "Requirement already satisfied: Levenshtein==0.23.0 in c:\\users\\sideeffect\\anaconda3\\lib\\site-packages (from python-Levenshtein->gramformer==1.0) (0.23.0)\n",
      "Requirement already satisfied: huggingface_hub<0.18,>=0.16.4 in c:\\users\\sideeffect\\anaconda3\\lib\\site-packages (from tokenizers->gramformer==1.0) (0.17.3)\n",
      "Requirement already satisfied: filelock in c:\\users\\sideeffect\\anaconda3\\lib\\site-packages (from transformers->gramformer==1.0) (3.6.0)\n",
      "Requirement already satisfied: numpy>=1.17 in c:\\users\\sideeffect\\anaconda3\\lib\\site-packages (from transformers->gramformer==1.0) (1.21.5)\n",
      "Requirement already satisfied: packaging>=20.0 in c:\\users\\sideeffect\\anaconda3\\lib\\site-packages (from transformers->gramformer==1.0) (21.3)\n",
      "Requirement already satisfied: pyyaml>=5.1 in c:\\users\\sideeffect\\anaconda3\\lib\\site-packages (from transformers->gramformer==1.0) (6.0)\n",
      "Requirement already satisfied: regex!=2019.12.17 in c:\\users\\sideeffect\\anaconda3\\lib\\site-packages (from transformers->gramformer==1.0) (2022.7.9)\n",
      "Requirement already satisfied: requests in c:\\users\\sideeffect\\anaconda3\\lib\\site-packages (from transformers->gramformer==1.0) (2.28.1)\n",
      "Requirement already satisfied: safetensors>=0.3.1 in c:\\users\\sideeffect\\anaconda3\\lib\\site-packages (from transformers->gramformer==1.0) (0.4.0)\n",
      "Requirement already satisfied: tqdm>=4.27 in c:\\users\\sideeffect\\anaconda3\\lib\\site-packages (from transformers->gramformer==1.0) (4.64.1)\n",
      "Requirement already satisfied: typing-extensions>=3.7.4.3 in c:\\users\\sideeffect\\anaconda3\\lib\\site-packages (from huggingface_hub<0.18,>=0.16.4->tokenizers->gramformer==1.0) (4.8.0)\n",
      "Requirement already satisfied: pyparsing!=3.0.5,>=2.0.2 in c:\\users\\sideeffect\\anaconda3\\lib\\site-packages (from packaging>=20.0->transformers->gramformer==1.0) (3.0.9)\n",
      "Requirement already satisfied: spacy-legacy<3.1.0,>=3.0.11 in c:\\users\\sideeffect\\anaconda3\\lib\\site-packages (from spacy<4,>=3.2.0->errant->gramformer==1.0) (3.0.12)\n",
      "Requirement already satisfied: spacy-loggers<2.0.0,>=1.0.0 in c:\\users\\sideeffect\\anaconda3\\lib\\site-packages (from spacy<4,>=3.2.0->errant->gramformer==1.0) (1.0.5)\n",
      "Requirement already satisfied: murmurhash<1.1.0,>=0.28.0 in c:\\users\\sideeffect\\anaconda3\\lib\\site-packages (from spacy<4,>=3.2.0->errant->gramformer==1.0) (1.0.10)\n",
      "Requirement already satisfied: cymem<2.1.0,>=2.0.2 in c:\\users\\sideeffect\\anaconda3\\lib\\site-packages (from spacy<4,>=3.2.0->errant->gramformer==1.0) (2.0.8)\n",
      "Requirement already satisfied: preshed<3.1.0,>=3.0.2 in c:\\users\\sideeffect\\anaconda3\\lib\\site-packages (from spacy<4,>=3.2.0->errant->gramformer==1.0) (3.0.9)\n",
      "Requirement already satisfied: thinc<8.3.0,>=8.1.8 in c:\\users\\sideeffect\\anaconda3\\lib\\site-packages (from spacy<4,>=3.2.0->errant->gramformer==1.0) (8.2.1)\n",
      "Requirement already satisfied: wasabi<1.2.0,>=0.9.1 in c:\\users\\sideeffect\\anaconda3\\lib\\site-packages (from spacy<4,>=3.2.0->errant->gramformer==1.0) (1.1.2)\n",
      "Requirement already satisfied: srsly<3.0.0,>=2.4.3 in c:\\users\\sideeffect\\anaconda3\\lib\\site-packages (from spacy<4,>=3.2.0->errant->gramformer==1.0) (2.4.8)\n",
      "Requirement already satisfied: catalogue<2.1.0,>=2.0.6 in c:\\users\\sideeffect\\anaconda3\\lib\\site-packages (from spacy<4,>=3.2.0->errant->gramformer==1.0) (2.0.10)\n",
      "Requirement already satisfied: weasel<0.4.0,>=0.1.0 in c:\\users\\sideeffect\\anaconda3\\lib\\site-packages (from spacy<4,>=3.2.0->errant->gramformer==1.0) (0.3.4)\n",
      "Requirement already satisfied: typer<0.10.0,>=0.3.0 in c:\\users\\sideeffect\\anaconda3\\lib\\site-packages (from spacy<4,>=3.2.0->errant->gramformer==1.0) (0.9.0)\n",
      "Requirement already satisfied: smart-open<7.0.0,>=5.2.1 in c:\\users\\sideeffect\\anaconda3\\lib\\site-packages (from spacy<4,>=3.2.0->errant->gramformer==1.0) (5.2.1)\n",
      "Requirement already satisfied: pydantic!=1.8,!=1.8.1,<3.0.0,>=1.7.4 in c:\\users\\sideeffect\\anaconda3\\lib\\site-packages (from spacy<4,>=3.2.0->errant->gramformer==1.0) (2.4.2)\n",
      "Requirement already satisfied: jinja2 in c:\\users\\sideeffect\\anaconda3\\lib\\site-packages (from spacy<4,>=3.2.0->errant->gramformer==1.0) (2.11.3)\n",
      "Requirement already satisfied: setuptools in c:\\users\\sideeffect\\anaconda3\\lib\\site-packages (from spacy<4,>=3.2.0->errant->gramformer==1.0) (63.4.1)\n",
      "Requirement already satisfied: langcodes<4.0.0,>=3.2.0 in c:\\users\\sideeffect\\anaconda3\\lib\\site-packages (from spacy<4,>=3.2.0->errant->gramformer==1.0) (3.3.0)\n",
      "Requirement already satisfied: charset-normalizer<3,>=2 in c:\\users\\sideeffect\\anaconda3\\lib\\site-packages (from requests->transformers->gramformer==1.0) (2.0.4)\n",
      "Requirement already satisfied: idna<4,>=2.5 in c:\\users\\sideeffect\\anaconda3\\lib\\site-packages (from requests->transformers->gramformer==1.0) (3.3)\n",
      "Requirement already satisfied: urllib3<1.27,>=1.21.1 in c:\\users\\sideeffect\\anaconda3\\lib\\site-packages (from requests->transformers->gramformer==1.0) (1.26.11)\n",
      "Requirement already satisfied: certifi>=2017.4.17 in c:\\users\\sideeffect\\anaconda3\\lib\\site-packages (from requests->transformers->gramformer==1.0) (2022.9.14)\n",
      "Requirement already satisfied: colorama in c:\\users\\sideeffect\\anaconda3\\lib\\site-packages (from tqdm>=4.27->transformers->gramformer==1.0) (0.4.6)\n",
      "Requirement already satisfied: annotated-types>=0.4.0 in c:\\users\\sideeffect\\anaconda3\\lib\\site-packages (from pydantic!=1.8,!=1.8.1,<3.0.0,>=1.7.4->spacy<4,>=3.2.0->errant->gramformer==1.0) (0.6.0)\n",
      "Requirement already satisfied: pydantic-core==2.10.1 in c:\\users\\sideeffect\\anaconda3\\lib\\site-packages (from pydantic!=1.8,!=1.8.1,<3.0.0,>=1.7.4->spacy<4,>=3.2.0->errant->gramformer==1.0) (2.10.1)\n",
      "Requirement already satisfied: blis<0.8.0,>=0.7.8 in c:\\users\\sideeffect\\anaconda3\\lib\\site-packages (from thinc<8.3.0,>=8.1.8->spacy<4,>=3.2.0->errant->gramformer==1.0) (0.7.11)\n",
      "Requirement already satisfied: confection<1.0.0,>=0.0.1 in c:\\users\\sideeffect\\anaconda3\\lib\\site-packages (from thinc<8.3.0,>=8.1.8->spacy<4,>=3.2.0->errant->gramformer==1.0) (0.1.3)\n",
      "Requirement already satisfied: click<9.0.0,>=7.1.1 in c:\\users\\sideeffect\\anaconda3\\lib\\site-packages (from typer<0.10.0,>=0.3.0->spacy<4,>=3.2.0->errant->gramformer==1.0) (8.0.4)\n",
      "Requirement already satisfied: cloudpathlib<0.17.0,>=0.7.0 in c:\\users\\sideeffect\\anaconda3\\lib\\site-packages (from weasel<0.4.0,>=0.1.0->spacy<4,>=3.2.0->errant->gramformer==1.0) (0.16.0)\n",
      "Requirement already satisfied: MarkupSafe>=0.23 in c:\\users\\sideeffect\\anaconda3\\lib\\site-packages (from jinja2->spacy<4,>=3.2.0->errant->gramformer==1.0) (2.0.1)\n"
     ]
    },
    {
     "name": "stderr",
     "output_type": "stream",
     "text": [
      "  Running command git clone --filter=blob:none --quiet https://github.com/PrithivirajDamodaran/Gramformer.git 'C:\\Users\\SideEffect\\AppData\\Local\\Temp\\pip-req-build-4bymbp57'\n"
     ]
    }
   ],
   "source": [
    "!pip install -U git+https://github.com/PrithivirajDamodaran/Gramformer.git"
   ]
  },
  {
   "cell_type": "markdown",
   "id": "d511ee7e",
   "metadata": {},
   "source": [
    "## We then import and instantiate gramformer "
   ]
  },
  {
   "cell_type": "code",
   "execution_count": 4,
   "id": "76394860",
   "metadata": {},
   "outputs": [],
   "source": [
    "from gramformer import Gramformer"
   ]
  },
  {
   "cell_type": "code",
   "execution_count": 6,
   "id": "cd568451",
   "metadata": {},
   "outputs": [
    {
     "name": "stdout",
     "output_type": "stream",
     "text": [
      "[Gramformer] Grammar error correct/highlight model loaded..\n"
     ]
    }
   ],
   "source": [
    "gf = Gramformer(models=1, use_gpu=False)"
   ]
  },
  {
   "cell_type": "markdown",
   "id": "22f8ce99",
   "metadata": {},
   "source": [
    "* From the gramformer documentation, when we specify models=0 will load the detector, models=1 will load the highlighter, models=2 will load the corrector and models=3 will load all three.\n",
    "* \"use_gpu\" is not critical. We can set to \"True\" if you have a dedicated NVidia or AMD GPU. For NVidia GPUs you will have to install CUDA and cuDNN. FOr AMD GPUs you will have to install ROCm.\n",
    "* You can set \"use_gpu=True\" of you are alsoon google colab"
   ]
  },
  {
   "cell_type": "markdown",
   "id": "ed8ebd91",
   "metadata": {},
   "source": [
    "## We can now run grammar correction using the gramformer model."
   ]
  },
  {
   "cell_type": "code",
   "execution_count": 7,
   "id": "39f7181d",
   "metadata": {},
   "outputs": [
    {
     "data": {
      "text/plain": [
       "<gramformer.gramformer.Gramformer at 0x29efbbfbc10>"
      ]
     },
     "execution_count": 7,
     "metadata": {},
     "output_type": "execute_result"
    }
   ],
   "source": [
    "gf"
   ]
  },
  {
   "cell_type": "code",
   "execution_count": 8,
   "id": "3e548db2",
   "metadata": {},
   "outputs": [
    {
     "name": "stdout",
     "output_type": "stream",
     "text": [
      "Enter sentence: I has many friends\n"
     ]
    },
    {
     "data": {
      "text/plain": [
       "{'I have many friends.'}"
      ]
     },
     "execution_count": 8,
     "metadata": {},
     "output_type": "execute_result"
    }
   ],
   "source": [
    "sentence = str(input(\"Enter sentence: \"))\n",
    "gf.correct(sentence)"
   ]
  },
  {
   "cell_type": "markdown",
   "id": "30e8c75e",
   "metadata": {},
   "source": [
    "## We can the use Gradio to test the model in a GUI or web browser"
   ]
  },
  {
   "cell_type": "code",
   "execution_count": 9,
   "id": "5d23682f",
   "metadata": {},
   "outputs": [],
   "source": [
    "import gradio as gr"
   ]
  },
  {
   "cell_type": "code",
   "execution_count": 23,
   "id": "e68632a4",
   "metadata": {},
   "outputs": [],
   "source": [
    "def correct_sentence(sentence):\n",
    "    result = gf.correct(sentence)\n",
    "    return result"
   ]
  },
  {
   "cell_type": "code",
   "execution_count": 24,
   "id": "20f2925d",
   "metadata": {},
   "outputs": [
    {
     "data": {
      "text/plain": [
       "{'I have many friends.'}"
      ]
     },
     "execution_count": 24,
     "metadata": {},
     "output_type": "execute_result"
    }
   ],
   "source": [
    "correct_sentence(sentence)"
   ]
  },
  {
   "cell_type": "code",
   "execution_count": 25,
   "id": "4deb90ba",
   "metadata": {
    "scrolled": false
   },
   "outputs": [
    {
     "name": "stdout",
     "output_type": "stream",
     "text": [
      "Running on local URL:  http://127.0.0.1:7863\n",
      "\n",
      "To create a public link, set `share=True` in `launch()`.\n"
     ]
    },
    {
     "data": {
      "text/html": [
       "<div><iframe src=\"http://127.0.0.1:7863/\" width=\"100%\" height=\"500\" allow=\"autoplay; camera; microphone; clipboard-read; clipboard-write;\" frameborder=\"0\" allowfullscreen></iframe></div>"
      ],
      "text/plain": [
       "<IPython.core.display.HTML object>"
      ]
     },
     "metadata": {},
     "output_type": "display_data"
    },
    {
     "data": {
      "text/plain": []
     },
     "execution_count": 25,
     "metadata": {},
     "output_type": "execute_result"
    }
   ],
   "source": [
    "test_app = gr.Interface(fn=correct_sentence,\n",
    "                        inputs=\"text\",\n",
    "                        title=\"Gramformer Example\",\n",
    "                        outputs=\"text\")\n",
    "test_app.launch()"
   ]
  }
 ],
 "metadata": {
  "kernelspec": {
   "display_name": "Python 3 (ipykernel)",
   "language": "python",
   "name": "python3"
  },
  "language_info": {
   "codemirror_mode": {
    "name": "ipython",
    "version": 3
   },
   "file_extension": ".py",
   "mimetype": "text/x-python",
   "name": "python",
   "nbconvert_exporter": "python",
   "pygments_lexer": "ipython3",
   "version": "3.9.13"
  }
 },
 "nbformat": 4,
 "nbformat_minor": 5
}
